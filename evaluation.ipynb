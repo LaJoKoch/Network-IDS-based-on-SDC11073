{
 "cells": [
  {
   "cell_type": "code",
   "execution_count": null,
   "metadata": {},
   "outputs": [],
   "source": [
    "import nest_asyncio\n",
    "nest_asyncio.apply()\n",
    "from Kitsune import Kitsune\n",
    "import numpy as np\n",
    "import os\n",
    "import pickle\n",
    "import matplotlib\n",
    "import matplotlib.pyplot as plt\n",
    "import seaborn as sns\n",
    "sns.set(rc={'figure.figsize':(11,9)})\n",
    "import ast\n",
    "from tqdm.notebook import tqdm \n",
    "import pandas as pd\n",
    "import pyshark\n",
    "from py2neo import Graph, Node, Relationship\n",
    "import webbrowser\n",
    "from sklearn.metrics import (confusion_matrix, ConfusionMatrixDisplay, f1_score, recall_score, precision_score, \n",
    "                             average_precision_score, roc_auc_score, roc_curve, RocCurveDisplay, \n",
    "                             precision_recall_curve, PrecisionRecallDisplay, mean_squared_error,\n",
    "                             det_curve, DetCurveDisplay)\n",
    "%matplotlib inline\n",
    "%load_ext snakeviz"
   ]
  },
  {
   "cell_type": "code",
   "execution_count": null,
   "metadata": {},
   "outputs": [],
   "source": [
    "data_dir = 'data_sdc11073/results'\n",
    "pcapng_traintestData_path = os.path.join(data_dir, 'capture_OPtable_traintest2.pcapng')\n",
    "pcap_traintestData_path = os.path.join(data_dir, 'capture_OPtable_traintest.pcap')\n",
    "csv_traintestData_path = os.path.join(data_dir, 'capture_OPtable_traintest2.csv')\n",
    "csv_traintestData_gt_path = os.path.join(data_dir, 'capture_OPtable_traintest2_gt.csv')\n",
    "tsv_traintestData_path = os.path.join(data_dir, 'capture_OPtable_traintest2.pcapng.tsv')\n",
    "pcap_realData_path = os.path.join(data_dir, 'capture_randomRealData.pcap')\n",
    "pcapng_trainData_path = os.path.join(data_dir, 'capture_OPtable_2.pcapng')\n",
    "csv_hyperparaOpt_infos = os.path.join(data_dir, 'hyperpara_optimization2_infos.csv')\n",
    "\n",
    "Anomaly_startIdx = 97790 \n",
    "FMgrace = 5000 \n",
    "ADgrace = 60000 "
   ]
  },
  {
   "cell_type": "code",
   "execution_count": null,
   "metadata": {},
   "outputs": [],
   "source": [
    "id2t_data_dir = 'data_sdc11073/ID2T_synth_attack/OPtable_merged_and_gt'\n",
    "synthAnomaly_data = os.path.join(id2t_data_dir, 'capture_OPtable_PortscanAttack.pcapng')\n",
    "synthAnomaly_gt = os.path.join(id2t_data_dir, 'capture_OPtable_PortscanAttack_gt.csv')\n",
    "synthAnomaly_infos = os.path.join(id2t_data_dir, 'capture_OPtable_PortscanAttack.csv')\n",
    "\n",
    "Anomaly_startIdx = 70000\n",
    "FMgrace = 5000 \n",
    "ADgrace = 55000 "
   ]
  },
  {
   "cell_type": "code",
   "execution_count": null,
   "metadata": {},
   "outputs": [],
   "source": [
    "packet_limit = np.Inf\n",
    "#maxAE = 10 # default Value\n",
    "#maxAE = 9 # first tuning\n",
    "maxAE = 4 # second tuning\n",
    "#learning_rate = 0.1 # default Value\n",
    "#learning_rate = 0.0053 # first tuning\n",
    "learning_rate = 0.1560 # second tuning\n",
    "#hidden_ratio = 0.75 # default Value\n",
    "#hidden_ratio = 0.2264 # first tuning\n",
    "hidden_ratio = 0.5306 # second tuning\n",
    "#sensitivity = 1 # default Value\n",
    "#sensitivity = 0.1979 # first tuning\n",
    "#sensitivity = 0.2121 # second tuning\n",
    "sensitivity = 0.45"
   ]
  },
  {
   "cell_type": "markdown",
   "metadata": {},
   "source": [
    "## Dataset Visualization"
   ]
  },
  {
   "cell_type": "code",
   "execution_count": null,
   "metadata": {},
   "outputs": [],
   "source": [
    "#df = pd.read_csv(csv_traintestData_path, delimiter=',', encoding='utf8', header=0)\n",
    "df = pd.read_csv(synthAnomaly_infos, delimiter=',', encoding='utf8', header=0)\n",
    "df.sample(10)"
   ]
  },
  {
   "cell_type": "code",
   "execution_count": null,
   "metadata": {},
   "outputs": [],
   "source": [
    "df = pd.read_csv(tsv_traintestData_path, delimiter='\\t', encoding='utf8', header=0)\n",
    "df.sample(10)"
   ]
  },
  {
   "cell_type": "code",
   "execution_count": null,
   "metadata": {
    "scrolled": false
   },
   "outputs": [],
   "source": [
    "plt.rcParams['figure.figsize'] = (11,9)\n",
    "plt.plot(df['Source Port'], df['Destination Port'], 'o')\n",
    "#plt.title('Connections between different clients and devices')\n",
    "plt.xlabel('Source Port')\n",
    "plt.ylabel('Destination Port')\n",
    "#plt.savefig('PortscanDataConnections.pdf', bbox_inches='tight')\n",
    "plt.show()"
   ]
  },
  {
   "cell_type": "code",
   "execution_count": null,
   "metadata": {
    "scrolled": false
   },
   "outputs": [],
   "source": [
    "plt.bar(df['Time'], df['Time delta from previous captured frame'])\n",
    "#plt.plot(df['Time'], df['Time delta from previous captured frame'], '-')\n",
    "plt.title('Time delays between consecutive data frames')\n",
    "plt.xlabel('Time [s]')\n",
    "plt.ylabel('Delay [s]')\n",
    "plt.show()"
   ]
  },
  {
   "cell_type": "code",
   "execution_count": null,
   "metadata": {
    "scrolled": false
   },
   "outputs": [],
   "source": [
    "df_ = df.groupby('Source Port')['Length'].sum()\n",
    "df_mb = df_/ (1024*1024)\n",
    "df_mb.plot(kind='barh', title='Sum of packet length [MB] per source port')"
   ]
  },
  {
   "cell_type": "code",
   "execution_count": null,
   "metadata": {},
   "outputs": [],
   "source": [
    "plt.bar(df['Time'], df['Length'])\n",
    "plt.title('Packet Length over time')\n",
    "plt.xlabel('Time [s]')\n",
    "plt.ylabel('Packet Length [B]')\n",
    "plt.show()"
   ]
  },
  {
   "cell_type": "code",
   "execution_count": null,
   "metadata": {},
   "outputs": [],
   "source": [
    "df_ = df.groupby('Protocol')['No.'].sum()\n",
    "df_scaled = df_/(130286/2)\n",
    "df_scaled.plot(kind='barh', title='Distribution [count] of different protocols')"
   ]
  },
  {
   "cell_type": "markdown",
   "metadata": {},
   "source": [
    "### Network Traffic Graph in Neo4j Browser"
   ]
  },
  {
   "cell_type": "code",
   "execution_count": null,
   "metadata": {},
   "outputs": [],
   "source": [
    "neo4jGraph = Graph(password='******')\n",
    "url = 'http://localhost:7474/db/data/'"
   ]
  },
  {
   "cell_type": "code",
   "execution_count": null,
   "metadata": {},
   "outputs": [],
   "source": [
    "# parsing with pyshark: visualize connections between different ports \n",
    "packets = pyshark.FileCapture(input_file=pcapng_traintestData_path)\n",
    "for packet in packets:\n",
    "    #if 'UDP' in str(packet.layers):\n",
    "    if hasattr(packet, 'udp'):\n",
    "        protocol = packet.transport_layer\n",
    "        srcPort = str(packet[protocol].srcport)\n",
    "        dstPort = str(packet[protocol].dstport)\n",
    "        firstNode = Node('Host', name=srcPort)\n",
    "        secondNode = Node('Host', name=dstPort)\n",
    "        SENDudp = Relationship.type('UDP')\n",
    "        neo4jGraph.merge(SENDudp(firstNode, secondNode), 'Host', 'name')\n",
    "    #elif 'TCP' in str(packet.layers):\n",
    "    elif hasattr(packet, 'tcp'):\n",
    "        protocol = packet.transport_layer\n",
    "        srcPort = str(packet[protocol].srcport)\n",
    "        dstPort = str(packet[protocol].dstport)\n",
    "        firstNode = Node('Host', name=srcPort)\n",
    "        secondNode = Node('Host', name=dstPort)\n",
    "        SENDtcp = Relationship.type('TCP')\n",
    "        neo4jGraph.merge(SENDtcp(firstNode, secondNode), 'Host', 'name')\n",
    "    #elif 'HTTP' in str(packet.layers):\n",
    "    #elif hasattr(packet, 'http') or hasattr(packet, 'http/xml'):\n",
    "    elif hasattr(packet, 'tcp') and hasattr(packet, 'http'):\n",
    "        protocol = packet.transport_layer\n",
    "        field_names = packet.http._all_fields\n",
    "        http_method = {val for key, val in field_names.items() if key == 'http.request.method'}\n",
    "        srcPort = str(packet[protocol].srcport)\n",
    "        dstPort = str(packet[protocol].dstport)\n",
    "        firstNode = Node('Host', name=srcPort)\n",
    "        secondNode = Node('Host', name=dstPort)\n",
    "        if 'GET' in str(http_method):\n",
    "            SENDhttp = Relationship.type('HTTP_GET')\n",
    "        elif 'POST' in str(http_method):\n",
    "            SENDhttp = Relationship.type('HTTP_POST')\n",
    "        neo4jGraph.merge(SENDhttp(firstNode, secondNode), 'Host', 'name')"
   ]
  },
  {
   "cell_type": "code",
   "execution_count": null,
   "metadata": {},
   "outputs": [],
   "source": [
    "# parsing with pyshark: visualize connections between different IP addresses\n",
    "# not suitable to visualize traffic from loopback adapter, because only ports change\n",
    "packets = pyshark.FileCapture(input_file=pcap_realData_path)\n",
    "for packet in packets:\n",
    "    if 'IPv4' in str(packet.layers[0]) and ('TCP' in str(packet.layers) or 'UDP' in str(packet.layers) or 'HTTP' in str(packet.layers)):\n",
    "        proto = packet.transport_layer\n",
    "        srcIP = packet.ip.src\n",
    "        dstIP = packet.ip.dst\n",
    "        firstNode = Node('Host', name=srcIP)\n",
    "        secondNode = Node('Host', name=dstIP)\n",
    "        SENDipv4 = Relationship.type(str(proto)+'_IPv4')\n",
    "        neo4jGraph.merge(SENDipv4(firstNode, secondNode), 'Host', 'name')\n",
    "    elif 'IPv6' in str(packet.layers[0]) and ('TCP' in str(packet.layers) or 'UDP' in str(packet.layers) or 'HTTP' in str(packet.layers)):\n",
    "        proto = packet.transport_layer\n",
    "        srcIP = packet.ipv6.src\n",
    "        dstIP = packet.ipv6.dst\n",
    "        firstNode = Node('Host', name=srcIP)\n",
    "        secondNode = Node('Host', name=dstIP)\n",
    "        SENDipv6 = Relationship.type(str(proto)+'_IPv6')\n",
    "        neo4jGraph.merge(SENDipv6(firstNode, secondNode), 'Host', 'name')"
   ]
  },
  {
   "cell_type": "code",
   "execution_count": null,
   "metadata": {},
   "outputs": [],
   "source": [
    "test_cypher_command = neo4jGraph.run('MATCH (n:Host) RETURN n')\n",
    "webbrowser.open(url, new=2)"
   ]
  },
  {
   "cell_type": "markdown",
   "metadata": {},
   "source": [
    "## Runtime Analysis"
   ]
  },
  {
   "cell_type": "code",
   "execution_count": null,
   "metadata": {
    "scrolled": true
   },
   "outputs": [],
   "source": [
    "#%%snakeviz\n",
    "#NIDS = Kitsune(pcapng_traintestData_path, packet_limit, maxAE, FMgrace, ADgrace, learning_rate, hidden_ratio, sensitivity)\n",
    "NIDS = Kitsune(synthAnomaly_data, packet_limit, maxAE, FMgrace, ADgrace, learning_rate, hidden_ratio, sensitivity)\n",
    "\n",
    "packet_count = NIDS.packet_count\n",
    "\n",
    "RMSEs = []\n",
    "\n",
    "for i in tqdm(range(packet_count)):\n",
    "    rmse = NIDS.proc_next_packet()\n",
    "    if rmse == -1:\n",
    "        break\n",
    "    RMSEs.append(rmse)\n",
    "\n",
    "threshold_phi = NIDS.phi * sensitivity\n",
    "model = NIDS.AnomDetector\n",
    "logs = NIDS.logs\n",
    "feature_map = NIDS.feature_map"
   ]
  },
  {
   "cell_type": "code",
   "execution_count": null,
   "metadata": {},
   "outputs": [],
   "source": [
    "%%snakeviz\n",
    "NIDS = Kitsune(pcapng_trainData_path, packet_limit, maxAE, FMgrace, ADgrace, learning_rate, hidden_ratio, sensitivity)\n",
    "\n",
    "RMSEs_train = NIDS.proc_packets_train()\n",
    "RMSEs_exec = NIDS.proc_packets_live(timeout=60)\n",
    "\n",
    "threshold_phi = NIDS.phi * sensitivity\n",
    "model = NIDS.AnomDetector"
   ]
  },
  {
   "cell_type": "markdown",
   "metadata": {},
   "source": [
    "## Hyperparameter Tuning"
   ]
  },
  {
   "cell_type": "markdown",
   "metadata": {},
   "source": [
    "### Bayesian Optimization"
   ]
  },
  {
   "cell_type": "code",
   "execution_count": null,
   "metadata": {},
   "outputs": [],
   "source": [
    "with open('models/hyperpara_27092021.pkl', 'rb') as f:\n",
    "    best_hyperpara, trials = pickle.load(f)\n",
    "max_AE = best_hyperpara['max_AE']\n",
    "learning_rate = best_hyperpara['learning_rate']\n",
    "hidden_ratio = best_hyperpara['hidden_ratio']\n",
    "sensitivity = best_hyperpara['sensitivity']\n",
    "print(f'optimized size of autoencoders:         {max_AE}')\n",
    "print(f'optimized learning rate:                {learning_rate}')\n",
    "print(f'optimized hidden ratio:                 {hidden_ratio}')\n",
    "print(f'optimized sensitivity (threshold):      {sensitivity}')"
   ]
  },
  {
   "cell_type": "code",
   "execution_count": null,
   "metadata": {},
   "outputs": [],
   "source": [
    "df = pd.read_csv(csv_hyperparaOpt_infos, delimiter=',', encoding='utf8', header=0)\n",
    "df.sort_values('loss', ascending = True, inplace = True)\n",
    "df.reset_index(inplace = True, drop = True)\n",
    "df_hyperparams = pd.DataFrame(columns = list(ast.literal_eval(df.loc[0, 'params']).keys()),\n",
    "                            index = list(range(len(df))))\n",
    "\n",
    "for i, param in enumerate(df['params']):\n",
    "    df_hyperparams.loc[i, :] = list(ast.literal_eval(param).values())\n",
    "    \n",
    "df_hyperparams['loss'] = df['loss']\n",
    "df_hyperparams['iteration'] = df['iteration']\n",
    "\n",
    "df_hyperparams = df_hyperparams.astype(float)\n",
    "df_hyperparams.head()"
   ]
  },
  {
   "cell_type": "code",
   "execution_count": null,
   "metadata": {},
   "outputs": [],
   "source": [
    "fig, axs = plt.subplots(1, 5, figsize = (25, 5))\n",
    "\n",
    "for i, param in enumerate(['max_AE', 'learning_rate', 'hidden_ratio', 'sensitivity', 'loss']):\n",
    "    sns.regplot(x=df_hyperparams['iteration'], y=df_hyperparams[param], ax = axs[i])\n",
    "    axs[i].set(xlabel = 'Iteration', ylabel = '{}'.format(param), title = '{} while Optimization'.format(param))\n",
    "plt.tight_layout()"
   ]
  },
  {
   "cell_type": "markdown",
   "metadata": {},
   "source": [
    "## Evaluation of NIDS (offline)"
   ]
  },
  {
   "cell_type": "code",
   "execution_count": null,
   "metadata": {},
   "outputs": [],
   "source": [
    "#with open('models/model_id2t_SMBScan.pkl', 'wb') as f:\n",
    "#    pickle.dump([model, RMSEs, threshold_phi, logs, feature_map], f)\n",
    "#with open('models/model_id2t_Portscan.pkl', 'rb') as f:\n",
    "#     model, RMSEs, threshold_phi, logs, feature_map = pickle.load(f)\n",
    "with open('models/model_sdcDoS_optimized.pkl', 'rb') as f:\n",
    "     model, RMSEs, threshold_phi, logs, feature_map = pickle.load(f)"
   ]
  },
  {
   "cell_type": "markdown",
   "metadata": {},
   "source": [
    "### RMSEs and Threshold"
   ]
  },
  {
   "cell_type": "code",
   "execution_count": null,
   "metadata": {
    "scrolled": false
   },
   "outputs": [],
   "source": [
    "cm = plt.cm.get_cmap('RdYlGn_r')\n",
    "plt.figure(figsize=(10,5))\n",
    "x = range(FMgrace+ADgrace+1,len(RMSEs))\n",
    "y = RMSEs[FMgrace+ADgrace+1:]\n",
    "fig = plt.scatter(x,y,c=y,norm=matplotlib.colors.LogNorm(),s=0.5,cmap=cm)\n",
    "plt.axhline(y=threshold_phi, color='r', linestyle='--')\n",
    "plt.yscale('log')\n",
    "#plt.title('Anomaly Scores from Network IDS - Execution Phase')\n",
    "plt.ylabel('RMSE (log scaled)')\n",
    "plt.xlabel('Packet No.')\n",
    "figbar=plt.colorbar()\n",
    "#plt.annotate('Start of Scan attack', (Anomaly_startIdx, 0.25), xytext=(Anomaly_startIdx-2500, 0.25+0.3), \n",
    "#             arrowprops = dict(arrowstyle='fancy'))\n",
    "#plt.axvspan(Anomaly_startIdx, len(RMSEs), color='red', alpha=0.1)\n",
    "#plt.grid(True)\n",
    "plt.savefig('DoSRMSEexec.pdf', bbox_inches='tight')\n",
    "plt.show()"
   ]
  },
  {
   "cell_type": "code",
   "execution_count": null,
   "metadata": {},
   "outputs": [],
   "source": [
    "#cm = plt.cm.get_cmap('RdYlGn_r')\n",
    "plt.figure(figsize=(10,5))\n",
    "x = np.arange(FMgrace,ADgrace)\n",
    "y = RMSEs[FMgrace:ADgrace]\n",
    "fig = plt.scatter(x,y,s=0.5, alpha=0.3, color='black')\n",
    "#plt.axhline(y=threshold_phi, color='r', linestyle='--')\n",
    "plt.yscale('log')\n",
    "#plt.title('Anomaly Scores from Network IDS - Train & Execution Phase')\n",
    "plt.ylabel('Loss (RMSE log scaled)')\n",
    "plt.xlabel('Packet No.')\n",
    "#figbar=plt.colorbar()\n",
    "sns.regplot(x=x, y=y, scatter=False, color='r')\n",
    "#plt.annotate('Start of Scan attack', (Anomaly_startIdx, 0.25), xytext=(Anomaly_startIdx-16000, 0.25+0.3), \n",
    "#             arrowprops = dict(arrowstyle='fancy'))\n",
    "#plt.grid(True)\n",
    "#plt.savefig('trainingNIDS.pdf', bbox_inches='tight')\n",
    "plt.show()"
   ]
  },
  {
   "cell_type": "markdown",
   "metadata": {},
   "source": [
    "### Metrics "
   ]
  },
  {
   "cell_type": "code",
   "execution_count": null,
   "metadata": {},
   "outputs": [],
   "source": [
    "preds_and_idxs = [item[0:2] for item in logs]\n",
    "preds = [item[1] for item in logs]\n",
    "#gt_data = pd.read_csv(csv_traintestData_gt_path, usecols=['anomaly'])\n",
    "gt_data = pd.read_csv(synthAnomaly_gt, usecols=['anomaly'])\n",
    "gt = gt_data.anomaly.tolist()\n",
    "exec_start_idx = FMgrace + ADgrace\n",
    "gt_exec = gt[exec_start_idx:]\n",
    "scores_exec = RMSEs[exec_start_idx:]"
   ]
  },
  {
   "cell_type": "code",
   "execution_count": null,
   "metadata": {},
   "outputs": [],
   "source": [
    "#root_mean_square_error = mean_squared_error(squared=False)\n",
    "print('Precision Score:          %.4f' % precision_score(gt_exec, preds))\n",
    "print('Recall Score:             %.4f' % recall_score(gt_exec, preds))\n",
    "print('F1 Score:                 %.4f' % f1_score(gt_exec, preds))\n",
    "print('Average Precision Score:  %.4f' % average_precision_score(gt_exec, scores_exec))\n",
    "print('ROC AUC Score:            %.4f' % roc_auc_score(gt_exec, scores_exec))"
   ]
  },
  {
   "cell_type": "code",
   "execution_count": null,
   "metadata": {},
   "outputs": [],
   "source": [
    "sns.reset_orig()\n",
    "tn, fp, fn, tp = confusion_matrix(gt_exec, preds).ravel()\n",
    "tpr = tp / (tp + fn)\n",
    "fnr = fn / (fn + tp)\n",
    "fpr = fp / (fp + tn)\n",
    "tnr = tn / (tn + fp)\n",
    "print('True Positive Rate:       %.4f' % tpr)\n",
    "print('False Negative Rate:      %.4f' % fnr)\n",
    "print('False Positive Rate:      %.4f' % fpr)\n",
    "print('True Negative Rate:       %.4f' % tnr)\n",
    "cm = confusion_matrix(gt_exec, preds)\n",
    "ConfusionMatrixDisplay(cm).plot()\n",
    "plt.savefig('confMatrixTestPortscan.pdf', bbox_inches='tight')"
   ]
  },
  {
   "cell_type": "code",
   "execution_count": null,
   "metadata": {},
   "outputs": [],
   "source": [
    "sns.set(rc={'figure.figsize':(11,9)})\n",
    "fpr, tpr, _ = roc_curve(gt_exec, scores_exec)\n",
    "RocCurveDisplay(fpr=fpr, tpr=tpr).plot()\n",
    "plt.savefig('ROCTestPortscan.pdf', bbox_inches='tight')"
   ]
  },
  {
   "cell_type": "code",
   "execution_count": null,
   "metadata": {
    "scrolled": true
   },
   "outputs": [],
   "source": [
    "fpr, fnr, _ = det_curve(gt_exec, scores_exec)\n",
    "DetCurveDisplay(fpr=fpr, fnr=fnr, estimator_name='NIDS offline').plot()"
   ]
  },
  {
   "cell_type": "code",
   "execution_count": null,
   "metadata": {
    "scrolled": true
   },
   "outputs": [],
   "source": [
    "prec, recall, _ = precision_recall_curve(gt_exec, scores_exec)\n",
    "PrecisionRecallDisplay(precision=prec, recall=recall, estimator_name='NIDS offline').plot()"
   ]
  },
  {
   "cell_type": "markdown",
   "metadata": {},
   "source": [
    "### Feature Space"
   ]
  },
  {
   "cell_type": "code",
   "execution_count": null,
   "metadata": {},
   "outputs": [],
   "source": [
    "packetIndex = [item[0] for item in logs]\n",
    "netState_vec = [item[2] for item in logs]\n",
    "state = np.array(netState_vec)\n",
    "\n",
    "# w1: 100ms, w2: 500ms, w3: 1,5s, w4: 10s, w5: 60s\n",
    "# packet count, 1D statistic, named MIstat in netStat.py\n",
    "pktRate_w1, pktRate_w2, pktRate_w3, pktRate_w4, pktRate_w5 = state[:,0:3], state[:,3:6], state[:,6:9], state[:,9:12], state[:,12:15] \n",
    "# packet size, 1D2D statistic, named HHstat in netStat.py\n",
    "bw1_w1, bw1_w2, bw1_w3, bw1_w4, bw1_w5 = state[:,15:22], state[:,22:29], state[:,29:36], state[:,36:43], state[:,43:50]\n",
    "# packet jitter, 1D statistic, named HHstat_jit in netStat.py\n",
    "pktDelay_w1, pktDelay_w2, pktDelay_w3, pktDelay_w4, pktDelay_w5 = state[:,50:53], state[:,53:56], state[:,56:59], state[:,59:62], state[:,62:65]\n",
    "# packet size, 1D2D statistic, named HpHpstat in netStat.py\n",
    "bw2_w1, bw2_w2, bw2_w3, bw2_w4, bw2_w5 = state[:,65:72], state[:,72:79], state[:,79:86], state[:,86:93], state[:,93:100]\n",
    "\n",
    "# same set of 20 features for all different windows \n",
    "weight_pktRate_w4, mean_pktRate_w4, std_pktRate_w4 = pktRate_w4[:,:1], pktRate_w4[:,1:2], pktRate_w4[:,2:3]\n",
    "weight_bw1_w4, mean_bw1_w4, std_bw1_w4, rad_bw1_w4, magn_bw1_w4, cov_bw1_w4, pcc_bw1_w4 = bw1_w4[:,:1], bw1_w4[:,1:2], bw1_w4[:,2:3], bw1_w4[:,3:4], bw1_w4[:,4:5], bw1_w4[:,5:6], bw1_w4[:,6:7]\n",
    "weight_pktDelay_w4, mean_pktDelay_w4, std_pktDelay_w4 = pktDelay_w4[:,:1], pktDelay_w4[:,1:2], pktDelay_w4[:,2:3]\n",
    "weight_bw2_w4, mean_bw2_w4, std_bw2_w4, rad_bw2_w4, magn_bw2_w4, cov_bw2_w4, pcc_bw2_w4 = bw2_w4[:,:1], bw2_w4[:,1:2], bw2_w4[:,2:3], bw2_w4[:,3:4], bw2_w4[:,4:5], bw2_w4[:,5:6], bw2_w4[:,6:7]\n",
    "\n",
    "pktRate_w4 = [weight_pktRate_w4, mean_pktRate_w4, std_pktRate_w4]\n",
    "bw1_w4 = [weight_bw1_w4, mean_bw1_w4, std_bw1_w4, rad_bw1_w4, magn_bw1_w4, cov_bw1_w4, pcc_bw1_w4]\n",
    "pktDelay_w4 = [weight_pktDelay_w4, mean_pktDelay_w4, std_pktDelay_w4]\n",
    "bw2_w4 = [weight_bw2_w4, mean_bw2_w4, std_bw2_w4, rad_bw2_w4, magn_bw2_w4, cov_bw2_w4, pcc_bw2_w4]"
   ]
  },
  {
   "cell_type": "code",
   "execution_count": null,
   "metadata": {
    "scrolled": false
   },
   "outputs": [],
   "source": [
    "plt.figure(figsize=(20,10))\n",
    "colors_1D = ['r', 'g', 'b']\n",
    "colors_2D = ['r', 'g', 'b', 'c', 'm', 'y', 'k']\n",
    "labels_1D = ['Weight', 'Mean', 'Std.']\n",
    "labels_2D = ['Weight', 'Mean', 'Std.', 'Radius', 'Magnitude', 'Covariance', 'Correlation']\n",
    "\n",
    "plt.subplot(221)\n",
    "for i in range(3):\n",
    "    plt.scatter(packetIndex, pktRate_w4[i], marker='o', color=colors_1D[i], alpha=1, s=1, label=labels_1D[i])\n",
    "plt.title(\"Features related to packet's rate - time window 10s\")\n",
    "plt.xlabel('Network packet number')\n",
    "plt.ylabel('Statistical features')\n",
    "plt.legend(loc = 'upper left')\n",
    "plt.annotate('Start of Scan attack', (Anomaly_startIdx, 4000), xytext=(Anomaly_startIdx-2000, 4000+15000), \n",
    "             arrowprops = dict(arrowstyle='fancy'))\n",
    "\n",
    "plt.subplot(222)\n",
    "for i in range(7):\n",
    "    plt.scatter(packetIndex, bw1_w4[i], marker='o', color=colors_2D[i], alpha=1, s=1, label=labels_2D[i])\n",
    "plt.title(\"Features related to packet's size (outbound) - time window 10s\")\n",
    "plt.xlabel('Network packet number')\n",
    "plt.ylabel('Statistical features')\n",
    "plt.legend(loc = 'upper left')\n",
    "plt.annotate('Start of Scan attack', (Anomaly_startIdx, 7000), xytext=(Anomaly_startIdx-2300, 7000+16000), \n",
    "             arrowprops = dict(arrowstyle='fancy'))\n",
    "\n",
    "plt.subplot(223)\n",
    "for i in range(3):\n",
    "    plt.scatter(packetIndex, pktDelay_w4[i], marker='o', color=colors_1D[i], alpha=1, s=1, label=labels_1D[i])\n",
    "plt.title(\"Features related to packet's jitter - time window 10s\")\n",
    "plt.xlabel('Network packet number')\n",
    "plt.ylabel('Statistical features')\n",
    "plt.legend(loc = 'upper left')\n",
    "plt.annotate('Start of Scan attack', (Anomaly_startIdx, 100), xytext=(Anomaly_startIdx-2000, 100+300), \n",
    "             arrowprops = dict(arrowstyle='fancy'))\n",
    "\n",
    "plt.subplot(224)\n",
    "for i in range(7):\n",
    "    plt.scatter(packetIndex, bw2_w4[i], marker='o', color=colors_2D[i], alpha=1, s=1, label=labels_2D[i])\n",
    "plt.title(\"Features related to packet's size (outbound/inbound) - time window 10s\")\n",
    "plt.xlabel('Network packet number')\n",
    "plt.ylabel('Statistical features')\n",
    "plt.legend(loc = 'upper left')\n",
    "plt.annotate('Start of Scan attack', (Anomaly_startIdx, 10000), xytext=(Anomaly_startIdx-2300, 10000+55000), \n",
    "             arrowprops = dict(arrowstyle='fancy'))\n",
    "\n",
    "plt.subplots_adjust(top=0.92, bottom=0.08, left=0.10, right=0.95, hspace=0.25, wspace=0.35)\n",
    "plt.show()"
   ]
  },
  {
   "cell_type": "markdown",
   "metadata": {},
   "source": [
    "### Feature Clustering "
   ]
  },
  {
   "cell_type": "code",
   "execution_count": null,
   "metadata": {},
   "outputs": [],
   "source": [
    "print(feature_map)"
   ]
  },
  {
   "cell_type": "markdown",
   "metadata": {},
   "source": [
    "## Evaluation of NIDS (online)"
   ]
  },
  {
   "cell_type": "code",
   "execution_count": null,
   "metadata": {},
   "outputs": [],
   "source": [
    "with open('models/model_live.pkl', 'wb') as f:\n",
    "    pickle.dump([model, RMSEs_train, RMSEs_exec, threshold_phi], f)\n",
    "#with open('models/model_live.pkl', 'rb') as f:\n",
    "#     model, RMSEs_train, RMSEs_exec, threshold_phi = pickle.load(f)"
   ]
  },
  {
   "cell_type": "markdown",
   "metadata": {},
   "source": [
    "### RMSEs and Threshold"
   ]
  },
  {
   "cell_type": "code",
   "execution_count": null,
   "metadata": {},
   "outputs": [],
   "source": [
    "cm = plt.cm.get_cmap('RdYlGn_r')\n",
    "plt.figure(figsize=(10,5))\n",
    "x = range(1, len(RMSEs_train))\n",
    "y = RMSEs_train[1:]\n",
    "fig = plt.scatter(x,y,c=y,norm=matplotlib.colors.Normalize(),s=0.1,cmap=cm)\n",
    "plt.axhline(y=threshold_phi, color='r', linestyle='-')\n",
    "#plt.yscale('log')\n",
    "plt.title('Anomaly Scores from Network IDS - Training Phase')\n",
    "plt.ylabel('RMSE')\n",
    "plt.xlabel('Network packet number')\n",
    "figbar=plt.colorbar()\n",
    "plt.show()"
   ]
  },
  {
   "cell_type": "code",
   "execution_count": null,
   "metadata": {},
   "outputs": [],
   "source": [
    "cm = plt.cm.get_cmap('RdYlGn_r')\n",
    "plt.figure(figsize=(10,5))\n",
    "x = range(1, len(RMSEs_exec))\n",
    "y = RMSEs_exec[1:]\n",
    "fig = plt.scatter(x,y,c=y,norm=matplotlib.colors.LogNorm(),s=1,cmap=cm)\n",
    "plt.axhline(y=threshold_phi, color='r', linestyle='-')\n",
    "plt.yscale('log')\n",
    "plt.title('Anomaly Scores from Network IDS - live Execution Phase')\n",
    "plt.ylabel('RMSE (log scaled)')\n",
    "plt.xlabel('Network packet number')\n",
    "figbar=plt.colorbar()\n",
    "plt.show()"
   ]
  }
 ],
 "metadata": {
  "interpreter": {
   "hash": "1e9b7c24726a17fc8e65362acaee0592520546a1aa9f5f69684f0b489101335f"
  },
  "kernelspec": {
   "display_name": "nids",
   "language": "python",
   "name": "nids"
  },
  "language_info": {
   "codemirror_mode": {
    "name": "ipython",
    "version": 3
   },
   "file_extension": ".py",
   "mimetype": "text/x-python",
   "name": "python",
   "nbconvert_exporter": "python",
   "pygments_lexer": "ipython3",
   "version": "3.8.5"
  }
 },
 "nbformat": 4,
 "nbformat_minor": 2
}
